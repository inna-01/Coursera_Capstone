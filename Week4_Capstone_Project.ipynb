{
 "cells": [
  {
   "cell_type": "markdown",
   "metadata": {},
   "source": [
    "# IBM Applied Data Science Capstone Project\n",
    "## The Battle of Neighborhoods: Choosing the Best Location for Your Next Food Business\n",
    "by Inna Nicole Sumalnap"
   ]
  },
  {
   "cell_type": "markdown",
   "metadata": {},
   "source": [
    "## Introduction\n",
    "\n",
    "Quezon City is the largest city in the Philippines in terms of population. Quezon City has an area of 16,112.58 hectares, which accounts for one-fourth of the entire Metropolitan Manila. According to the [Quezon City Government Official Website](https://quezoncity.gov.ph/about-the-city-government/economy), there has been an increasing trend in the number of registered businesses from 2008 to 2013. The latest count is at 64,515 with 13,417 as new and 51,098 renewals. More than 90% belongs to the services sector, where hotels & restaurants activities rank 3rd in terms of share.\n",
    "\n",
    "\n",
    "Quezon City is located on the northeast side of Metro Manila. It is easily accessible from the major highways and mass transit systems, making it a good location for one's food business. The online real estate marketplace [Lamudi](https://www.lamudi.com.ph/journal/10-reasons-why-quezon-city-is-one-of-the-best-places-to-live-in-metro-manila/) even considers Quezon City as a haven for food lovers and bar-hoppers due to a wide variety of restaurants available in the area.\n",
    "\n",
    "The goal of this project is to help entrepreneurs in their search for possible locations for their food business. It is generally considered that location is one of the most crucial factors to consider when putting up a business. Along with the restaurant's menu, location can make a huge difference in the success of a food business. In an article published by the [Entrepreneur](https://www.entrepreneur.com/article/73784) magazine, Greg Kahn, founder and CEO of Kahn Research Group said that \"the best place to be is as close to your biggest competitor as you can be\". This means that other restaurants selected their locations based on the favorable aspects of that area. On the other hand, having a concept that is almost indistinguishable to neighboring restaurants also have its drawbacks as highlighted in an article by [EHL Insights](https://hospitalityinsights.ehl.edu/restaurant-management-location). For one, it will be very difficult to win over your neighbors' loyal customers.\n",
    "\n",
    "The main contribution of this project is to provide entrepreneurs with business location alternatives. Specifically, it seeks to:\n",
    "- identify the most common restaurant types in each of the neighborhoods in Quezon City\n",
    "- determine the least popular restaurant types in each location\n",
    "- cluster similar establishments in the city\n",
    "- visualize these clusters on the map\n",
    "- develop actionable insights and make recommendations about the best location for a food business in Quezon City"
   ]
  },
  {
   "cell_type": "markdown",
   "metadata": {},
   "source": [
    "## Data\n",
    "\n",
    "In order to achieve the objectives of this project, the following data were obtained and preprocessed.\n",
    "1. The latitude and longitude values of Quezon City were obtained using the geopy library. This was used to create the map of the city.\n",
    "2. The list of neighborhoods in Quezon City were collected. It is publicly available on the official website of the [Philippine Statistics Authority](https://psa.gov.ph/sites/default/files/attachments/hsd/pressrelease/NCR.xlsx).\n",
    "3. The coordinates of each of the neighborhoods in Quezon City were also obtained using the geopy library. This was used to show the location of the neighborhoods in the map.\n",
    "4. The number and types of restaurants for each location were collected using the Foursquare API. This will address the first two objectives outlined above."
   ]
  },
  {
   "cell_type": "code",
   "execution_count": null,
   "metadata": {},
   "outputs": [],
   "source": []
  }
 ],
 "metadata": {
  "kernelspec": {
   "display_name": "Python 3",
   "language": "python",
   "name": "python3"
  },
  "language_info": {
   "codemirror_mode": {
    "name": "ipython",
    "version": 3
   },
   "file_extension": ".py",
   "mimetype": "text/x-python",
   "name": "python",
   "nbconvert_exporter": "python",
   "pygments_lexer": "ipython3",
   "version": "3.8.3"
  }
 },
 "nbformat": 4,
 "nbformat_minor": 4
}
